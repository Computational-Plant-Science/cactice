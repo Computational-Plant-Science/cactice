{
 "cells": [
  {
   "cell_type": "markdown",
   "source": [
    "# Exploring `cactice`\n",
    "\n",
    "This notebook demonstrates basic `cactice` usage and explores some use cases."
   ],
   "metadata": {
    "collapsed": false
   }
  },
  {
   "cell_type": "markdown",
   "source": [
    "## Reading data into `cactice`\n",
    "\n",
    "First we review the formats `cactice` supports and demonstrate how to read some sample data. `cactice` currently supports 2 formats:\n",
    "\n",
    "- comma- or tab-delimited data (CSV/TSV)\n",
    "- text grids (2D character arrays)"
   ],
   "metadata": {
    "collapsed": false
   }
  },
  {
   "cell_type": "markdown",
   "source": [
    "### CSV files\n",
    "\n",
    "`cactice` can read 1 or more grids from a CSV or TSV file containing columns for:\n",
    "\n",
    "- grid index\n",
    "- class label\n",
    "- row index\n",
    "- column index\n",
    "\n",
    "By default `cactice` expects to find columns named `Grid`, `Class`, `I`, and `J`, respectively. Alternative mappings can also be provided. Note that the file *must* begin with a header row.\n",
    "\n",
    "For instance, to read in some sample grids from a CSV file:"
   ],
   "metadata": {
    "collapsed": false
   }
  },
  {
   "cell_type": "code",
   "execution_count": 1,
   "metadata": {
    "collapsed": true,
    "pycharm": {
     "name": "#%%\n"
    }
   },
   "outputs": [],
   "source": [
    "from typing import Dict\n",
    "import numpy as np\n",
    "from cactice.fileio import read_grids_csv\n",
    "\n",
    "grids: Dict[str, np.ndarray] = read_grids_csv('../testdata/grids.csv')"
   ]
  },
  {
   "cell_type": "markdown",
   "source": [
    "### Text files\n",
    "\n",
    "`cactice` can also read a single grid from a text file. The text is interpreted as a 2-dimensional character array, with newlines delimiting rows and each distinct character a class.\n",
    "\n",
    "For instance:"
   ],
   "metadata": {
    "collapsed": false
   }
  },
  {
   "cell_type": "code",
   "execution_count": 2,
   "outputs": [],
   "source": [
    "from cactice.fileio import read_grid_txt\n",
    "\n",
    "grids['from text'] = read_grid_txt('../testdata/grid.txt')"
   ],
   "metadata": {
    "collapsed": false,
    "pycharm": {
     "name": "#%%\n"
    }
   }
  },
  {
   "cell_type": "markdown",
   "source": [
    "## Computing summary statistics\n",
    "\n",
    "### Grid cell class distribution\n",
    "\n",
    "Next we can calculate the grid cell class distribution across all grids and on a per-grid basis."
   ],
   "metadata": {
    "collapsed": false
   }
  },
  {
   "cell_type": "code",
   "execution_count": 3,
   "outputs": [
    {
     "name": "stdout",
     "output_type": "stream",
     "text": [
      "Overall class distribution:\n",
      "{'1': 0.4397, '2': 0.2069, '3': 0.1207, '4': 0.2328}\n",
      "Grid 1 cell class distribution:\n",
      "{'1': 0.333, '2': 0.267, '3': 0.4}\n",
      "Grid 2 cell class distribution:\n",
      "{'1': 0.45, '2': 0.2167, '3': 0.1167, '4': 0.2167}\n",
      "Grid 3 cell class distribution:\n",
      "{'1': 0.2174, '2': 0.2609, '3': 0.087, '4': 0.4348}\n",
      "Grid 4 cell class distribution:\n",
      "{'1': 0.2947, '2': 0.2579, '3': 0.1421, '4': 0.3053}\n",
      "Grid from text cell class distribution:\n",
      "{'1': 1.0}\n"
     ]
    }
   ],
   "source": [
    "from pprint import pprint\n",
    "import cactice.stats as stats\n",
    "\n",
    "grids_l = list(grids.values())\n",
    "classes = stats.classes(grids_l)\n",
    "\n",
    "print(\"Overall class distribution:\")\n",
    "pprint(classes)\n",
    "\n",
    "for name, grid in grids.items():\n",
    "    print(f\"Grid {name} cell class distribution:\")\n",
    "    pprint(stats.classes([grid]))"
   ],
   "metadata": {
    "collapsed": false,
    "pycharm": {
     "name": "#%%\n"
    }
   }
  },
  {
   "cell_type": "markdown",
   "source": [],
   "metadata": {
    "collapsed": false
   }
  },
  {
   "cell_type": "code",
   "execution_count": 4,
   "outputs": [
    {
     "name": "stdout",
     "output_type": "stream",
     "text": [
      "Overall undirected bond distribution (horizontal):\n",
      "{'11': 0.2156862745,\n",
      " '12': 0.1421568627,\n",
      " '13': 0.0833333333,\n",
      " '14': 0.1568627451,\n",
      " '22': 0.0490196078,\n",
      " '23': 0.0735294118,\n",
      " '24': 0.112745098,\n",
      " '33': 0.0,\n",
      " '34': 0.0784313725,\n",
      " '44': 0.0882352941}\n",
      "Overall undirected bond distribution (vertical):\n",
      "{'11': 0.1764705882,\n",
      " '12': 0.1428571429,\n",
      " '13': 0.0882352941,\n",
      " '14': 0.1638655462,\n",
      " '22': 0.0588235294,\n",
      " '23': 0.0756302521,\n",
      " '24': 0.1218487395,\n",
      " '33': 0.0168067227,\n",
      " '34': 0.0798319328,\n",
      " '44': 0.0756302521}\n",
      "Grid '[[1 2 2 3 1 3 2 1 3 3 2 3 3 1 1 0]]' undirected bond distribution (horizontal):\n",
      "{}\n",
      "Grid '[[1 2 2 3 1 3 2 1 3 3 2 3 3 1 1 0]]' undirected bond distribution (vertical):\n",
      "{'11': 0.0714285714,\n",
      " '12': 0.1428571429,\n",
      " '13': 0.2857142857,\n",
      " '14': 0.0,\n",
      " '22': 0.0714285714,\n",
      " '23': 0.2857142857,\n",
      " '24': 0.0,\n",
      " '33': 0.1428571429,\n",
      " '34': 0.0,\n",
      " '44': 0.0}\n",
      "Grid '[[1 1 4 4 1 4 4 1 1 4 2 1 0 1 2 0]\n",
      " [0 0 2 2 3 1 2 0 0 4 0 3 2 4 3 4]\n",
      " [2 1 0 3 4 1 1 4 1 1 2 4 0 4 1 1]\n",
      " [1 4 2 1 1 0 2 1 1 2 1 0 0 0 0 0]\n",
      " [0 1 2 3 1 1 0 1 0 1 1 0 3 3 2 0]]' undirected bond distribution (horizontal):\n",
      "{'11': 0.1470588235,\n",
      " '12': 0.1764705882,\n",
      " '13': 0.1470588235,\n",
      " '14': 0.2352941176,\n",
      " '22': 0.0294117647,\n",
      " '23': 0.0588235294,\n",
      " '24': 0.0882352941,\n",
      " '33': 0.0,\n",
      " '34': 0.0588235294,\n",
      " '44': 0.0588235294}\n",
      "Grid '[[1 1 4 4 1 4 4 1 1 4 2 1 0 1 2 0]\n",
      " [0 0 2 2 3 1 2 0 0 4 0 3 2 4 3 4]\n",
      " [2 1 0 3 4 1 1 4 1 1 2 4 0 4 1 1]\n",
      " [1 4 2 1 1 0 2 1 1 2 1 0 0 0 0 0]\n",
      " [0 1 2 3 1 1 0 1 0 1 1 0 3 3 2 0]]' undirected bond distribution (vertical):\n",
      "{'11': 0.1956521739,\n",
      " '12': 0.2173913043,\n",
      " '13': 0.0434782609,\n",
      " '14': 0.2173913043,\n",
      " '22': 0.0217391304,\n",
      " '23': 0.0869565217,\n",
      " '24': 0.0869565217,\n",
      " '33': 0.0217391304,\n",
      " '34': 0.0652173913,\n",
      " '44': 0.0434782609}\n",
      "Grid '[[0 3 1 0 1 4 2 2 4 4 4 4 4 1 1]\n",
      " [2 4 4 2 4 3 4 1 0 0 2 0 2 0 0]]' undirected bond distribution (horizontal):\n",
      "{'11': 0.0,\n",
      " '12': 0.125,\n",
      " '13': 0.0,\n",
      " '14': 0.25,\n",
      " '22': 0.0,\n",
      " '23': 0.0,\n",
      " '24': 0.375,\n",
      " '33': 0.0,\n",
      " '34': 0.25,\n",
      " '44': 0.0}\n",
      "Grid '[[0 3 1 0 1 4 2 2 4 4 4 4 4 1 1]\n",
      " [2 4 4 2 4 3 4 1 0 0 2 0 2 0 0]]' undirected bond distribution (vertical):\n",
      "{'11': 0.0555555556,\n",
      " '12': 0.0,\n",
      " '13': 0.0555555556,\n",
      " '14': 0.1666666667,\n",
      " '22': 0.0555555556,\n",
      " '23': 0.0,\n",
      " '24': 0.2777777778,\n",
      " '33': 0.0,\n",
      " '34': 0.1111111111,\n",
      " '44': 0.2777777778}\n",
      "Grid '[[3 0 0 4 4 3 1 3 1 3 0 4 1 0 1 4]\n",
      " [4 2 4 0 4 2 0 2 1 4 1 2 4 1 1 3]\n",
      " [4 0 3 4 1 1 4 2 1 4 3 2 2 0 2 0]\n",
      " [2 1 1 0 3 4 4 1 2 0 2 3 1 2 2 3]\n",
      " [0 4 2 2 4 0 0 1 3 1 0 0 4 2 1 1]\n",
      " [4 4 0 3 4 4 2 2 1 0 4 4 3 2 2 2]\n",
      " [1 4 4 4 4 4 3 4 0 4 1 3 1 1 4 4]\n",
      " [1 1 1 4 0 4 1 1 1 2 4 1 3 4 0 4]\n",
      " [2 2 1 4 2 1 4 3 2 1 2 0 4 2 4 2]\n",
      " [2 0 1 4 3 1 2 1 0 0 2 2 2 1 4 1]\n",
      " [2 2 2 4 2 1 0 0 0 0 0 0 0 0 0 4]\n",
      " [3 1 4 2 3 2 4 1 0 1 1 1 1 4 3 2]\n",
      " [4 2 1 2 0 4 1 0 0 2 0 0 0 0 0 0]\n",
      " [1 0 0 0 0 0 4 0 1 4 3 3 2 3 0 1]\n",
      " [4 0 1 0 0 0 0 0 0 0 4 4 3 0 0 0]\n",
      " [1 2 4 1 0 3 0 0 4 0 0 0 0 2 0 0]\n",
      " [0 0 0 3 1 2 1 0 0 0 0 0 2 0 0 0]]' undirected bond distribution (horizontal):\n",
      "{'11': 0.0681818182,\n",
      " '12': 0.1666666667,\n",
      " '13': 0.0909090909,\n",
      " '14': 0.1666666667,\n",
      " '22': 0.0681818182,\n",
      " '23': 0.0984848485,\n",
      " '24': 0.1287878788,\n",
      " '33': 0.0,\n",
      " '34': 0.0909090909,\n",
      " '44': 0.1212121212}\n",
      "Grid '[[3 0 0 4 4 3 1 3 1 3 0 4 1 0 1 4]\n",
      " [4 2 4 0 4 2 0 2 1 4 1 2 4 1 1 3]\n",
      " [4 0 3 4 1 1 4 2 1 4 3 2 2 0 2 0]\n",
      " [2 1 1 0 3 4 4 1 2 0 2 3 1 2 2 3]\n",
      " [0 4 2 2 4 0 0 1 3 1 0 0 4 2 1 1]\n",
      " [4 4 0 3 4 4 2 2 1 0 4 4 3 2 2 2]\n",
      " [1 4 4 4 4 4 3 4 0 4 1 3 1 1 4 4]\n",
      " [1 1 1 4 0 4 1 1 1 2 4 1 3 4 0 4]\n",
      " [2 2 1 4 2 1 4 3 2 1 2 0 4 2 4 2]\n",
      " [2 0 1 4 3 1 2 1 0 0 2 2 2 1 4 1]\n",
      " [2 2 2 4 2 1 0 0 0 0 0 0 0 0 0 4]\n",
      " [3 1 4 2 3 2 4 1 0 1 1 1 1 4 3 2]\n",
      " [4 2 1 2 0 4 1 0 0 2 0 0 0 0 0 0]\n",
      " [1 0 0 0 0 0 4 0 1 4 3 3 2 3 0 1]\n",
      " [4 0 1 0 0 0 0 0 0 0 4 4 3 0 0 0]\n",
      " [1 2 4 1 0 3 0 0 4 0 0 0 0 2 0 0]\n",
      " [0 0 0 3 1 2 1 0 0 0 0 0 2 0 0 0]]' undirected bond distribution (vertical):\n",
      "{'11': 0.085106383,\n",
      " '12': 0.1560283688,\n",
      " '13': 0.0992907801,\n",
      " '14': 0.1843971631,\n",
      " '22': 0.0780141844,\n",
      " '23': 0.0709219858,\n",
      " '24': 0.1418439716,\n",
      " '33': 0.0070921986,\n",
      " '34': 0.0992907801,\n",
      " '44': 0.0780141844}\n",
      "Grid '[[0 0 0 0 0 0 0 0 0 0 0 0 0 0 0 0 0 0 0 0 0 0 0 0 0 0 0 0 1 0]\n",
      " [0 0 1 1 1 0 0 0 0 0 0 0 0 1 0 0 0 0 1 0 0 0 0 0 1 0 0 0 1 0]\n",
      " [0 0 0 1 0 0 0 1 0 1 0 0 0 1 0 0 0 0 1 1 0 0 0 1 1 1 0 0 1 1]\n",
      " [0 0 0 1 0 0 0 1 1 1 0 0 0 1 1 1 0 0 0 1 1 0 0 0 1 0 0 0 1 0]\n",
      " [0 0 0 0 0 0 0 0 0 0 0 0 0 0 0 0 0 0 0 0 0 0 0 0 0 0 0 0 0 0]\n",
      " [0 0 0 0 0 0 0 1 0 0 1 0 0 0 0 0 0 0 0 1 0 0 0 0 0 0 0 0 0 0]\n",
      " [0 0 0 1 1 0 0 1 0 0 1 0 0 0 1 1 0 0 0 1 0 0 1 1 0 0 0 0 0 0]\n",
      " [0 0 1 1 0 0 0 1 0 0 1 0 0 0 1 1 0 0 1 1 0 0 0 1 0 0 0 0 0 0]\n",
      " [0 0 0 1 0 0 0 1 0 0 1 1 0 0 1 0 0 0 1 0 0 0 0 1 1 0 0 0 0 0]\n",
      " [0 0 0 0 0 0 0 1 0 0 0 0 0 0 0 0 0 0 0 0 0 0 0 0 0 0 0 0 0 0]\n",
      " [0 0 0 0 0 0 0 0 0 0 0 0 0 0 0 0 0 0 0 0 0 0 0 0 0 0 0 0 0 0]]' undirected bond distribution (horizontal):\n",
      "{'11': 1.0,\n",
      " '12': 0.0,\n",
      " '13': 0.0,\n",
      " '14': 0.0,\n",
      " '22': 0.0,\n",
      " '23': 0.0,\n",
      " '24': 0.0,\n",
      " '33': 0.0,\n",
      " '34': 0.0,\n",
      " '44': 0.0}\n",
      "Grid '[[0 0 0 0 0 0 0 0 0 0 0 0 0 0 0 0 0 0 0 0 0 0 0 0 0 0 0 0 1 0]\n",
      " [0 0 1 1 1 0 0 0 0 0 0 0 0 1 0 0 0 0 1 0 0 0 0 0 1 0 0 0 1 0]\n",
      " [0 0 0 1 0 0 0 1 0 1 0 0 0 1 0 0 0 0 1 1 0 0 0 1 1 1 0 0 1 1]\n",
      " [0 0 0 1 0 0 0 1 1 1 0 0 0 1 1 1 0 0 0 1 1 0 0 0 1 0 0 0 1 0]\n",
      " [0 0 0 0 0 0 0 0 0 0 0 0 0 0 0 0 0 0 0 0 0 0 0 0 0 0 0 0 0 0]\n",
      " [0 0 0 0 0 0 0 1 0 0 1 0 0 0 0 0 0 0 0 1 0 0 0 0 0 0 0 0 0 0]\n",
      " [0 0 0 1 1 0 0 1 0 0 1 0 0 0 1 1 0 0 0 1 0 0 1 1 0 0 0 0 0 0]\n",
      " [0 0 1 1 0 0 0 1 0 0 1 0 0 0 1 1 0 0 1 1 0 0 0 1 0 0 0 0 0 0]\n",
      " [0 0 0 1 0 0 0 1 0 0 1 1 0 0 1 0 0 0 1 0 0 0 0 1 1 0 0 0 0 0]\n",
      " [0 0 0 0 0 0 0 1 0 0 0 0 0 0 0 0 0 0 0 0 0 0 0 0 0 0 0 0 0 0]\n",
      " [0 0 0 0 0 0 0 0 0 0 0 0 0 0 0 0 0 0 0 0 0 0 0 0 0 0 0 0 0 0]]' undirected bond distribution (vertical):\n",
      "{'11': 1.0,\n",
      " '12': 0.0,\n",
      " '13': 0.0,\n",
      " '14': 0.0,\n",
      " '22': 0.0,\n",
      " '23': 0.0,\n",
      " '24': 0.0,\n",
      " '33': 0.0,\n",
      " '34': 0.0,\n",
      " '44': 0.0}\n"
     ]
    }
   ],
   "source": [
    "bonds_h, bonds_v = stats.undirected_bonds(grids_l)\n",
    "\n",
    "print(\"Overall undirected bond distribution (horizontal):\")\n",
    "pprint(bonds_h)\n",
    "print(\"Overall undirected bond distribution (vertical):\")\n",
    "pprint(bonds_v)\n",
    "\n",
    "for name, grid in grids.items():\n",
    "    grid_bonds_h, grid_bonds_v = stats.undirected_bonds([grid])\n",
    "\n",
    "    print(f\"Grid '{name}' undirected bond distribution (horizontal):\")\n",
    "    pprint(grid_bonds_h)\n",
    "    print(f\"Grid '{name}' undirected bond distribution (vertical):\")\n",
    "    pprint(grid_bonds_v)"
   ],
   "metadata": {
    "collapsed": false,
    "pycharm": {
     "name": "#%%\n"
    }
   }
  },
  {
   "cell_type": "markdown",
   "source": [
    "## Plotting grids\n",
    "\n",
    "Next, inspect grids visually."
   ],
   "metadata": {
    "collapsed": false
   }
  },
  {
   "cell_type": "code",
   "execution_count": 5,
   "outputs": [
    {
     "data": {
      "text/plain": "<Figure size 432x288 with 1 Axes>",
      "image/png": "[encoded data removed]"
     },
     "metadata": {
      "needs_background": "light"
     },
     "output_type": "display_data"
    },
    {
     "data": {
      "text/plain": "<Figure size 432x288 with 1 Axes>",
      "image/png": "[encoded data removed]"
     },
     "metadata": {
      "needs_background": "light"
     },
     "output_type": "display_data"
    },
    {
     "data": {
      "text/plain": "<Figure size 432x288 with 1 Axes>",
      "image/png": "[encoded data removed]"
     },
     "metadata": {
      "needs_background": "light"
     },
     "output_type": "display_data"
    },
    {
     "data": {
      "text/plain": "<Figure size 432x288 with 1 Axes>",
      "image/png": "[encoded data removed]"
     },
     "metadata": {
      "needs_background": "light"
     },
     "output_type": "display_data"
    },
    {
     "data": {
      "text/plain": "<Figure size 432x288 with 1 Axes>",
      "image/png": "[encoded data removed]"
     },
     "metadata": {
      "needs_background": "light"
     },
     "output_type": "display_data"
    }
   ],
   "source": [
    "from cactice.plot import plot_grid\n",
    "\n",
    "for name, grid in grids.items():\n",
    "    plot_grid(grid, f\"Grid {name}\")"
   ],
   "metadata": {
    "collapsed": false,
    "pycharm": {
     "name": "#%%\n"
    }
   }
  },
  {
   "cell_type": "markdown",
   "source": [
    "## Finding tiles\n",
    "\n",
    "`cactice` can search grids for \"tiles\" (contiguous regions) of a particular class. For instance, to find non-empty tiles (in this case consisting of `#` characters) in a binary grid:"
   ],
   "metadata": {
    "collapsed": false,
    "pycharm": {
     "name": "#%% md\n"
    }
   }
  },
  {
   "cell_type": "code",
   "execution_count": 6,
   "outputs": [
    {
     "name": "stdout",
     "output_type": "stream",
     "text": [
      "Tiles:\n",
      "[[[0, 28], [1, 28], [2, 28], [2, 29], [3, 28]],\n",
      " [[1, 2], [1, 3], [1, 4], [2, 3], [3, 3]],\n",
      " [[1, 13], [2, 13], [3, 13], [3, 14], [3, 15]],\n",
      " [[1, 18], [2, 18], [2, 19], [3, 19], [3, 20]],\n",
      " [[1, 24], [2, 23], [2, 24], [2, 25], [3, 24]],\n",
      " [[2, 7], [2, 9], [3, 7], [3, 8], [3, 9]],\n",
      " [[5, 7], [6, 7], [7, 7], [8, 7], [9, 7]],\n",
      " [[5, 10], [6, 10], [7, 10], [8, 10], [8, 11]],\n",
      " [[5, 19], [6, 19], [7, 18], [7, 19], [8, 18]],\n",
      " [[6, 3], [6, 4], [7, 2], [7, 3], [8, 3]],\n",
      " [[6, 14], [6, 15], [6, 15], [7, 14], [7, 15], [8, 14]],\n",
      " [[6, 22], [6, 23], [7, 23], [8, 23], [8, 24]]]\n"
     ]
    }
   ],
   "source": [
    "from cactice.tiles import find_tiles\n",
    "\n",
    "tiles = find_tiles(grids['from text'], target=1)\n",
    "print(\"Tiles:\")\n",
    "pprint(tiles)"
   ],
   "metadata": {
    "collapsed": false,
    "pycharm": {
     "name": "#%%\n"
    }
   }
  }
 ],
 "metadata": {
  "kernelspec": {
   "display_name": "Python 3",
   "language": "python",
   "name": "python3"
  },
  "language_info": {
   "codemirror_mode": {
    "name": "ipython",
    "version": 2
   },
   "file_extension": ".py",
   "mimetype": "text/x-python",
   "name": "python",
   "nbconvert_exporter": "python",
   "pygments_lexer": "ipython2",
   "version": "2.7.6"
  }
 },
 "nbformat": 4,
 "nbformat_minor": 0
}