{
 "cells": [
  {
   "cell_type": "markdown",
   "source": [
    "First, read in a sample grid from a text file and take a look at it."
   ],
   "metadata": {
    "collapsed": false
   }
  },
  {
   "cell_type": "code",
   "execution_count": 1,
   "metadata": {
    "collapsed": true
   },
   "outputs": [
    {
     "data": {
      "text/plain": "<Figure size 432x288 with 1 Axes>",
      "image/png": "[encoded data removed]"
     },
     "metadata": {
      "needs_background": "light"
     },
     "output_type": "display_data"
    }
   ],
   "source": [
    "from cactice.io import read_grid_txt\n",
    "from cactice.vis import show_grid\n",
    "\n",
    "grid = read_grid_txt('../testdata/tiles_sample1.txt')\n",
    "show_grid(grid, f\"Tile grid\")"
   ]
  },
  {
   "cell_type": "markdown",
   "source": [
    "Now we can search for tiles."
   ],
   "metadata": {
    "collapsed": false
   }
  },
  {
   "cell_type": "code",
   "execution_count": 2,
   "outputs": [
    {
     "name": "stdout",
     "output_type": "stream",
     "text": [
      "Tiles:\n",
      "[[[0, 28], [1, 28], [2, 28], [2, 29], [3, 28]],\n",
      " [[1, 2], [1, 3], [1, 4], [2, 3], [3, 3]],\n",
      " [[1, 13], [2, 13], [3, 13], [3, 14], [3, 15]],\n",
      " [[1, 18], [2, 18], [2, 19], [3, 19], [3, 20]],\n",
      " [[1, 24], [2, 23], [2, 24], [2, 25], [3, 24]],\n",
      " [[2, 7], [2, 9], [3, 7], [3, 8], [3, 9]],\n",
      " [[5, 7], [6, 7], [7, 7], [8, 7], [9, 7]],\n",
      " [[5, 10], [6, 10], [7, 10], [8, 10], [8, 11]],\n",
      " [[5, 19], [6, 19], [7, 18], [7, 19], [8, 18]],\n",
      " [[6, 3], [6, 4], [7, 2], [7, 3], [8, 3]],\n",
      " [[6, 14], [6, 15], [6, 15], [7, 14], [7, 15], [8, 14]],\n",
      " [[6, 22], [6, 23], [7, 23], [8, 23], [8, 24]]]\n"
     ]
    }
   ],
   "source": [
    "from pprint import pprint\n",
    "from cactice.tiles import find_tiles\n",
    "\n",
    "tiles = find_tiles(grid, target=1)\n",
    "print(\"Tiles:\")\n",
    "pprint(tiles)"
   ],
   "metadata": {
    "collapsed": false,
    "pycharm": {
     "name": "#%%\n"
    }
   }
  }
 ],
 "metadata": {
  "kernelspec": {
   "display_name": "Python 3",
   "language": "python",
   "name": "python3"
  },
  "language_info": {
   "codemirror_mode": {
    "name": "ipython",
    "version": 2
   },
   "file_extension": ".py",
   "mimetype": "text/x-python",
   "name": "python",
   "nbconvert_exporter": "python",
   "pygments_lexer": "ipython2",
   "version": "2.7.6"
  }
 },
 "nbformat": 4,
 "nbformat_minor": 0
}